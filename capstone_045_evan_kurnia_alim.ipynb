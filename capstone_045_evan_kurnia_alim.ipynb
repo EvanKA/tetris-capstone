{
 "cells": [
  {
   "cell_type": "code",
   "execution_count": 52,
   "id": "b796a0a6",
   "metadata": {},
   "outputs": [
    {
     "data": {
      "text/html": [
       "<div>\n",
       "<style scoped>\n",
       "    .dataframe tbody tr th:only-of-type {\n",
       "        vertical-align: middle;\n",
       "    }\n",
       "\n",
       "    .dataframe tbody tr th {\n",
       "        vertical-align: top;\n",
       "    }\n",
       "\n",
       "    .dataframe thead th {\n",
       "        text-align: right;\n",
       "    }\n",
       "</style>\n",
       "<table border=\"1\" class=\"dataframe\">\n",
       "  <thead>\n",
       "    <tr style=\"text-align: right;\">\n",
       "      <th></th>\n",
       "      <th>Unnamed: 0</th>\n",
       "      <th>work_year</th>\n",
       "      <th>experience_level</th>\n",
       "      <th>employment_type</th>\n",
       "      <th>job_title</th>\n",
       "      <th>salary</th>\n",
       "      <th>salary_currency</th>\n",
       "      <th>salary_in_usd</th>\n",
       "      <th>employee_residence</th>\n",
       "      <th>remote_ratio</th>\n",
       "      <th>company_location</th>\n",
       "      <th>company_size</th>\n",
       "    </tr>\n",
       "  </thead>\n",
       "  <tbody>\n",
       "    <tr>\n",
       "      <th>0</th>\n",
       "      <td>0</td>\n",
       "      <td>2020</td>\n",
       "      <td>MI</td>\n",
       "      <td>FT</td>\n",
       "      <td>Data Scientist</td>\n",
       "      <td>70000</td>\n",
       "      <td>EUR</td>\n",
       "      <td>79833</td>\n",
       "      <td>DE</td>\n",
       "      <td>0</td>\n",
       "      <td>DE</td>\n",
       "      <td>L</td>\n",
       "    </tr>\n",
       "    <tr>\n",
       "      <th>1</th>\n",
       "      <td>1</td>\n",
       "      <td>2020</td>\n",
       "      <td>SE</td>\n",
       "      <td>FT</td>\n",
       "      <td>Machine Learning Scientist</td>\n",
       "      <td>260000</td>\n",
       "      <td>USD</td>\n",
       "      <td>260000</td>\n",
       "      <td>JP</td>\n",
       "      <td>0</td>\n",
       "      <td>JP</td>\n",
       "      <td>S</td>\n",
       "    </tr>\n",
       "    <tr>\n",
       "      <th>2</th>\n",
       "      <td>2</td>\n",
       "      <td>2020</td>\n",
       "      <td>SE</td>\n",
       "      <td>FT</td>\n",
       "      <td>Big Data Engineer</td>\n",
       "      <td>85000</td>\n",
       "      <td>GBP</td>\n",
       "      <td>109024</td>\n",
       "      <td>GB</td>\n",
       "      <td>50</td>\n",
       "      <td>GB</td>\n",
       "      <td>M</td>\n",
       "    </tr>\n",
       "    <tr>\n",
       "      <th>3</th>\n",
       "      <td>3</td>\n",
       "      <td>2020</td>\n",
       "      <td>MI</td>\n",
       "      <td>FT</td>\n",
       "      <td>Product Data Analyst</td>\n",
       "      <td>20000</td>\n",
       "      <td>USD</td>\n",
       "      <td>20000</td>\n",
       "      <td>HN</td>\n",
       "      <td>0</td>\n",
       "      <td>HN</td>\n",
       "      <td>S</td>\n",
       "    </tr>\n",
       "    <tr>\n",
       "      <th>4</th>\n",
       "      <td>4</td>\n",
       "      <td>2020</td>\n",
       "      <td>SE</td>\n",
       "      <td>FT</td>\n",
       "      <td>Machine Learning Engineer</td>\n",
       "      <td>150000</td>\n",
       "      <td>USD</td>\n",
       "      <td>150000</td>\n",
       "      <td>US</td>\n",
       "      <td>50</td>\n",
       "      <td>US</td>\n",
       "      <td>L</td>\n",
       "    </tr>\n",
       "  </tbody>\n",
       "</table>\n",
       "</div>"
      ],
      "text/plain": [
       "   Unnamed: 0  work_year experience_level employment_type  \\\n",
       "0           0       2020               MI              FT   \n",
       "1           1       2020               SE              FT   \n",
       "2           2       2020               SE              FT   \n",
       "3           3       2020               MI              FT   \n",
       "4           4       2020               SE              FT   \n",
       "\n",
       "                    job_title  salary salary_currency  salary_in_usd  \\\n",
       "0              Data Scientist   70000             EUR          79833   \n",
       "1  Machine Learning Scientist  260000             USD         260000   \n",
       "2           Big Data Engineer   85000             GBP         109024   \n",
       "3        Product Data Analyst   20000             USD          20000   \n",
       "4   Machine Learning Engineer  150000             USD         150000   \n",
       "\n",
       "  employee_residence  remote_ratio company_location company_size  \n",
       "0                 DE             0               DE            L  \n",
       "1                 JP             0               JP            S  \n",
       "2                 GB            50               GB            M  \n",
       "3                 HN             0               HN            S  \n",
       "4                 US            50               US            L  "
      ]
     },
     "execution_count": 52,
     "metadata": {},
     "output_type": "execute_result"
    }
   ],
   "source": [
    "import pandas as pd\n",
    "import matplotlib.pyplot as plt\n",
    "\n",
    "# read from .csv file\n",
    "ds_salary_df = pd.read_csv('ds_salaries.csv')\n",
    "ds_salary_df.head()\n",
    "# all salaries are yearly (annual)"
   ]
  },
  {
   "cell_type": "code",
   "execution_count": 53,
   "id": "031bf3bb",
   "metadata": {},
   "outputs": [
    {
     "data": {
      "text/html": [
       "<div>\n",
       "<style scoped>\n",
       "    .dataframe tbody tr th:only-of-type {\n",
       "        vertical-align: middle;\n",
       "    }\n",
       "\n",
       "    .dataframe tbody tr th {\n",
       "        vertical-align: top;\n",
       "    }\n",
       "\n",
       "    .dataframe thead th {\n",
       "        text-align: right;\n",
       "    }\n",
       "</style>\n",
       "<table border=\"1\" class=\"dataframe\">\n",
       "  <thead>\n",
       "    <tr style=\"text-align: right;\">\n",
       "      <th></th>\n",
       "      <th>work_year</th>\n",
       "      <th>experience_level</th>\n",
       "      <th>employment_type</th>\n",
       "      <th>job_title</th>\n",
       "      <th>salary</th>\n",
       "      <th>salary_currency</th>\n",
       "      <th>salary_in_usd</th>\n",
       "      <th>employee_residence</th>\n",
       "      <th>remote_ratio</th>\n",
       "      <th>company_location</th>\n",
       "      <th>company_size</th>\n",
       "    </tr>\n",
       "  </thead>\n",
       "  <tbody>\n",
       "    <tr>\n",
       "      <th>0</th>\n",
       "      <td>2020</td>\n",
       "      <td>MI</td>\n",
       "      <td>FT</td>\n",
       "      <td>Data Scientist</td>\n",
       "      <td>70000</td>\n",
       "      <td>EUR</td>\n",
       "      <td>79833</td>\n",
       "      <td>DE</td>\n",
       "      <td>0</td>\n",
       "      <td>DE</td>\n",
       "      <td>L</td>\n",
       "    </tr>\n",
       "    <tr>\n",
       "      <th>1</th>\n",
       "      <td>2020</td>\n",
       "      <td>SE</td>\n",
       "      <td>FT</td>\n",
       "      <td>Machine Learning Scientist</td>\n",
       "      <td>260000</td>\n",
       "      <td>USD</td>\n",
       "      <td>260000</td>\n",
       "      <td>JP</td>\n",
       "      <td>0</td>\n",
       "      <td>JP</td>\n",
       "      <td>S</td>\n",
       "    </tr>\n",
       "    <tr>\n",
       "      <th>2</th>\n",
       "      <td>2020</td>\n",
       "      <td>SE</td>\n",
       "      <td>FT</td>\n",
       "      <td>Big Data Engineer</td>\n",
       "      <td>85000</td>\n",
       "      <td>GBP</td>\n",
       "      <td>109024</td>\n",
       "      <td>GB</td>\n",
       "      <td>50</td>\n",
       "      <td>GB</td>\n",
       "      <td>M</td>\n",
       "    </tr>\n",
       "    <tr>\n",
       "      <th>3</th>\n",
       "      <td>2020</td>\n",
       "      <td>MI</td>\n",
       "      <td>FT</td>\n",
       "      <td>Product Data Analyst</td>\n",
       "      <td>20000</td>\n",
       "      <td>USD</td>\n",
       "      <td>20000</td>\n",
       "      <td>HN</td>\n",
       "      <td>0</td>\n",
       "      <td>HN</td>\n",
       "      <td>S</td>\n",
       "    </tr>\n",
       "    <tr>\n",
       "      <th>4</th>\n",
       "      <td>2020</td>\n",
       "      <td>SE</td>\n",
       "      <td>FT</td>\n",
       "      <td>Machine Learning Engineer</td>\n",
       "      <td>150000</td>\n",
       "      <td>USD</td>\n",
       "      <td>150000</td>\n",
       "      <td>US</td>\n",
       "      <td>50</td>\n",
       "      <td>US</td>\n",
       "      <td>L</td>\n",
       "    </tr>\n",
       "  </tbody>\n",
       "</table>\n",
       "</div>"
      ],
      "text/plain": [
       "   work_year experience_level employment_type                   job_title  \\\n",
       "0       2020               MI              FT              Data Scientist   \n",
       "1       2020               SE              FT  Machine Learning Scientist   \n",
       "2       2020               SE              FT           Big Data Engineer   \n",
       "3       2020               MI              FT        Product Data Analyst   \n",
       "4       2020               SE              FT   Machine Learning Engineer   \n",
       "\n",
       "   salary salary_currency  salary_in_usd employee_residence  remote_ratio  \\\n",
       "0   70000             EUR          79833                 DE             0   \n",
       "1  260000             USD         260000                 JP             0   \n",
       "2   85000             GBP         109024                 GB            50   \n",
       "3   20000             USD          20000                 HN             0   \n",
       "4  150000             USD         150000                 US            50   \n",
       "\n",
       "  company_location company_size  \n",
       "0               DE            L  \n",
       "1               JP            S  \n",
       "2               GB            M  \n",
       "3               HN            S  \n",
       "4               US            L  "
      ]
     },
     "execution_count": 53,
     "metadata": {},
     "output_type": "execute_result"
    }
   ],
   "source": [
    "# delete unnamed column\n",
    "ds_salary_df_1 = ds_salary_df.drop(columns=['Unnamed: 0'])\n",
    "ds_salary_df_1.head()"
   ]
  },
  {
   "cell_type": "code",
   "execution_count": 54,
   "id": "90c37157",
   "metadata": {},
   "outputs": [
    {
     "data": {
      "text/plain": [
       "work_year             0\n",
       "experience_level      0\n",
       "employment_type       0\n",
       "job_title             0\n",
       "salary                0\n",
       "salary_currency       0\n",
       "salary_in_usd         0\n",
       "employee_residence    0\n",
       "remote_ratio          0\n",
       "company_location      0\n",
       "company_size          0\n",
       "dtype: int64"
      ]
     },
     "execution_count": 54,
     "metadata": {},
     "output_type": "execute_result"
    }
   ],
   "source": [
    "# check missing values\n",
    "ds_salary_df_1.isnull().sum()"
   ]
  },
  {
   "cell_type": "code",
   "execution_count": 55,
   "id": "21ea036d",
   "metadata": {},
   "outputs": [
    {
     "data": {
      "text/plain": [
       "work_year\n",
       "2020     95813.000000\n",
       "2021     99853.792627\n",
       "2022    124522.006289\n",
       "Name: salary_in_usd, dtype: float64"
      ]
     },
     "execution_count": 55,
     "metadata": {},
     "output_type": "execute_result"
    }
   ],
   "source": [
    "# average salary by work year\n",
    "year_salary = ds_salary_df_1.groupby('work_year')['salary_in_usd'].mean()\n",
    "year_salary"
   ]
  },
  {
   "cell_type": "code",
   "execution_count": 56,
   "id": "10971be3",
   "metadata": {},
   "outputs": [
    {
     "data": {
      "image/png": "[encoded data removed]",
      "text/plain": [
       "<Figure size 432x288 with 1 Axes>"
      ]
     },
     "metadata": {
      "needs_background": "light"
     },
     "output_type": "display_data"
    }
   ],
   "source": [
    "year_salary.plot(kind='bar')\n",
    "plt.title('Salary by year (USD)')\n",
    "plt.ylabel('salary')\n",
    "plt.show()"
   ]
  },
  {
   "cell_type": "markdown",
   "id": "3adeb03e",
   "metadata": {},
   "source": [
    "There is only a slight increase in average salary between 2020 and 2021, but a significant increase in that between 2021 and 2022."
   ]
  },
  {
   "cell_type": "code",
   "execution_count": 57,
   "id": "7c9de85d",
   "metadata": {},
   "outputs": [
    {
     "data": {
      "text/plain": [
       "experience_level\n",
       "EX    199392.038462\n",
       "SE    138617.292857\n",
       "MI     87996.056338\n",
       "EN     61643.318182\n",
       "Name: salary_in_usd, dtype: float64"
      ]
     },
     "execution_count": 57,
     "metadata": {},
     "output_type": "execute_result"
    }
   ],
   "source": [
    "# average salary by experience level\n",
    "xp_salary = ds_salary_df_1.groupby('experience_level')['salary_in_usd'].mean()\n",
    "xp_salary.sort_values(ascending=False)"
   ]
  },
  {
   "cell_type": "code",
   "execution_count": 58,
   "id": "0618b204",
   "metadata": {},
   "outputs": [
    {
     "data": {
      "image/png": "[encoded data removed]",
      "text/plain": [
       "<Figure size 432x288 with 1 Axes>"
      ]
     },
     "metadata": {
      "needs_background": "light"
     },
     "output_type": "display_data"
    }
   ],
   "source": [
    "xp_salary.sort_values(ascending=False).plot(kind='bar')\n",
    "plt.title('Salary by experience (USD)')\n",
    "plt.ylabel('salary')\n",
    "plt.show()"
   ]
  },
  {
   "cell_type": "markdown",
   "id": "fb2252fe",
   "metadata": {},
   "source": [
    "Entry level jobs in developed countries typically earn around 60000 dollars per year, which translate to around 5000 dollars per month or 75 million rupiahs per month.\n",
    "Executive jobs earn almost 200000 dollars per year, which means around 16000 dollars per year or 240 million rupiahs per month."
   ]
  },
  {
   "cell_type": "code",
   "execution_count": 59,
   "id": "652be5da",
   "metadata": {},
   "outputs": [
    {
     "data": {
      "text/plain": [
       "company_size\n",
       "L    119242.994949\n",
       "M    116905.466258\n",
       "S     77632.674699\n",
       "Name: salary_in_usd, dtype: float64"
      ]
     },
     "execution_count": 59,
     "metadata": {},
     "output_type": "execute_result"
    }
   ],
   "source": [
    "# average salary by company size\n",
    "size_salary = ds_salary_df_1.groupby('company_size')['salary_in_usd'].mean()\n",
    "size_salary"
   ]
  },
  {
   "cell_type": "code",
   "execution_count": 60,
   "id": "9e36dab4",
   "metadata": {},
   "outputs": [
    {
     "data": {
      "image/png": "[encoded data removed]",
      "text/plain": [
       "<Figure size 432x288 with 1 Axes>"
      ]
     },
     "metadata": {
      "needs_background": "light"
     },
     "output_type": "display_data"
    }
   ],
   "source": [
    "size_salary.plot(kind='bar')\n",
    "plt.title('Salary by company size (USD)')\n",
    "plt.ylabel('salary')\n",
    "plt.show()"
   ]
  },
  {
   "cell_type": "markdown",
   "id": "ea08db9d",
   "metadata": {},
   "source": [
    "As hypothesized, the larger then company, the salary will tend to be higher. However, there is no significant difference in salary between medium sized and large sized companies."
   ]
  },
  {
   "cell_type": "code",
   "execution_count": 61,
   "id": "ccfe191c",
   "metadata": {},
   "outputs": [
    {
     "data": {
      "text/plain": [
       "employment_type\n",
       "CT    184575.000000\n",
       "FT    113468.073129\n",
       "FL     48000.000000\n",
       "PT     33070.500000\n",
       "Name: salary_in_usd, dtype: float64"
      ]
     },
     "execution_count": 61,
     "metadata": {},
     "output_type": "execute_result"
    }
   ],
   "source": [
    "# average salary by employment type\n",
    "size_salary = ds_salary_df_1.groupby('employment_type')['salary_in_usd'].mean()\n",
    "size_salary.sort_values(ascending=False)"
   ]
  },
  {
   "cell_type": "code",
   "execution_count": 62,
   "id": "74c7b9c1",
   "metadata": {},
   "outputs": [
    {
     "data": {
      "image/png": "[encoded data removed]",
      "text/plain": [
       "<Figure size 432x288 with 1 Axes>"
      ]
     },
     "metadata": {
      "needs_background": "light"
     },
     "output_type": "display_data"
    }
   ],
   "source": [
    "size_salary.sort_values(ascending=False).plot(kind='bar')\n",
    "plt.title('Salary by employment type (USD)')\n",
    "plt.ylabel('salary')\n",
    "plt.show()"
   ]
  },
  {
   "cell_type": "markdown",
   "id": "75f421b9",
   "metadata": {},
   "source": [
    "Contract and full-time employees receive statistically significant higher than part-time or flexible time employees. This is expected, since contract and full-time employees usually perform better than part-time or flexible time employees."
   ]
  },
  {
   "cell_type": "code",
   "execution_count": 63,
   "id": "20296cc6",
   "metadata": {},
   "outputs": [
    {
     "data": {
      "text/plain": [
       "company_location\n",
       "RU    157500.000000\n",
       "US    144055.261972\n",
       "NZ    125000.000000\n",
       "IL    119059.000000\n",
       "JP    114127.333333\n",
       "AU    108042.666667\n",
       "AE    100000.000000\n",
       "DZ    100000.000000\n",
       "IQ    100000.000000\n",
       "CA     99823.733333\n",
       "SG     89294.000000\n",
       "BE     85699.000000\n",
       "DE     81887.214286\n",
       "GB     81583.042553\n",
       "AT     72920.750000\n",
       "CN     71665.500000\n",
       "IE     71444.000000\n",
       "PL     66082.500000\n",
       "CH     64114.000000\n",
       "FR     63970.666667\n",
       "SI     63831.000000\n",
       "RO     60000.000000\n",
       "NL     54945.750000\n",
       "DK     54386.333333\n",
       "ES     53060.142857\n",
       "GR     52293.090909\n",
       "CZ     50937.000000\n",
       "PT     47793.750000\n",
       "HR     45618.000000\n",
       "LU     43942.666667\n",
       "CL     40038.000000\n",
       "MY     40000.000000\n",
       "IT     36366.500000\n",
       "HU     35735.000000\n",
       "EE     32974.000000\n",
       "MX     32123.333333\n",
       "NG     30000.000000\n",
       "IN     28581.750000\n",
       "MT     28369.000000\n",
       "CO     21844.000000\n",
       "TR     20096.666667\n",
       "HN     20000.000000\n",
       "BR     18602.666667\n",
       "AS     18053.000000\n",
       "MD     18000.000000\n",
       "UA     13400.000000\n",
       "PK     13333.333333\n",
       "KE      9272.000000\n",
       "IR      4000.000000\n",
       "VN      4000.000000\n",
       "Name: salary_in_usd, dtype: float64"
      ]
     },
     "execution_count": 63,
     "metadata": {},
     "output_type": "execute_result"
    }
   ],
   "source": [
    "# average salary by company's country\n",
    "country_salary = ds_salary_df_1.groupby('company_location')['salary_in_usd'].mean()\n",
    "country_salary.sort_values(ascending=False)"
   ]
  },
  {
   "cell_type": "code",
   "execution_count": 64,
   "id": "b1f6e9fd",
   "metadata": {},
   "outputs": [
    {
     "data": {
      "image/png": "[encoded data removed]",
      "text/plain": [
       "<Figure size 432x288 with 1 Axes>"
      ]
     },
     "metadata": {
      "needs_background": "light"
     },
     "output_type": "display_data"
    }
   ],
   "source": [
    "country_salary.sort_values(ascending=False).plot(kind='bar')\n",
    "plt.title('Salary by country code (USD)')\n",
    "plt.ylabel('salary')\n",
    "plt.show()"
   ]
  },
  {
   "cell_type": "markdown",
   "id": "664ea3b5",
   "metadata": {},
   "source": [
    "The more developed a country is, the higher the average salary will be, because the main criteria for determining developed countries is by GDP per capita and the economy."
   ]
  },
  {
   "cell_type": "code",
   "execution_count": 65,
   "id": "a9798461",
   "metadata": {},
   "outputs": [
    {
     "data": {
      "text/plain": [
       "remote_ratio\n",
       "0      106354.622047\n",
       "50      80823.030303\n",
       "100    122457.454068\n",
       "Name: salary_in_usd, dtype: float64"
      ]
     },
     "execution_count": 65,
     "metadata": {},
     "output_type": "execute_result"
    }
   ],
   "source": [
    "# average salary by ratio of WFA/WFO\n",
    "wfa_salary = ds_salary_df_1.groupby('remote_ratio')['salary_in_usd'].mean()\n",
    "wfa_salary"
   ]
  },
  {
   "cell_type": "code",
   "execution_count": 66,
   "id": "d29f150a",
   "metadata": {},
   "outputs": [
    {
     "data": {
      "image/png": "[encoded data removed]",
      "text/plain": [
       "<Figure size 432x288 with 1 Axes>"
      ]
     },
     "metadata": {
      "needs_background": "light"
     },
     "output_type": "display_data"
    }
   ],
   "source": [
    "# 0 is full WFO, 50 is hybrid, 100 is full WFA\n",
    "wfa_salary.plot(kind='bar')\n",
    "plt.title('Salary by remote percentage (USD)')\n",
    "plt.ylabel('salary')\n",
    "plt.show()"
   ]
  },
  {
   "cell_type": "markdown",
   "id": "ae05de83",
   "metadata": {},
   "source": [
    "In general, hybrid workers typically earn lower salary than full WFA or full WFA. Full WFA workers typically earn higher than even WFO. This is probably due to full WFA workers rank are typically have high experience level, as indicated below."
   ]
  },
  {
   "cell_type": "code",
   "execution_count": 67,
   "id": "916f7ccf",
   "metadata": {},
   "outputs": [
    {
     "data": {
      "text/plain": [
       "experience_level  remote_ratio\n",
       "EN                0                14\n",
       "                  50               25\n",
       "                  100              49\n",
       "EX                0                 3\n",
       "                  50                5\n",
       "                  100              18\n",
       "MI                0                56\n",
       "                  50               42\n",
       "                  100             115\n",
       "SE                0                54\n",
       "                  50               27\n",
       "                  100             199\n",
       "dtype: int64"
      ]
     },
     "execution_count": 67,
     "metadata": {},
     "output_type": "execute_result"
    }
   ],
   "source": [
    "ds_salary_df_1.groupby(['experience_level', 'remote_ratio']).size()"
   ]
  },
  {
   "cell_type": "code",
   "execution_count": 68,
   "id": "916e7831",
   "metadata": {},
   "outputs": [
    {
     "data": {
      "image/png": "[encoded data removed]",
      "text/plain": [
       "<Figure size 432x288 with 1 Axes>"
      ]
     },
     "metadata": {
      "needs_background": "light"
     },
     "output_type": "display_data"
    }
   ],
   "source": [
    "# overall salary boxplot\n",
    "ds_salary_df_1.boxplot(column=['salary_in_usd'])\n",
    "plt.title('Annual salary distribution (USD)')\n",
    "plt.ylabel('salary')\n",
    "plt.show()"
   ]
  },
  {
   "cell_type": "markdown",
   "id": "a690e40b",
   "metadata": {},
   "source": [
    "There seems to be some upper outliers in this data, however this is actually normal, because there will be extremely rare cases of an employee earn very high salary."
   ]
  },
  {
   "cell_type": "code",
   "execution_count": null,
   "id": "ee21db11",
   "metadata": {},
   "outputs": [],
   "source": []
  }
 ],
 "metadata": {
  "kernelspec": {
   "display_name": "Python 3 (ipykernel)",
   "language": "python",
   "name": "python3"
  },
  "language_info": {
   "codemirror_mode": {
    "name": "ipython",
    "version": 3
   },
   "file_extension": ".py",
   "mimetype": "text/x-python",
   "name": "python",
   "nbconvert_exporter": "python",
   "pygments_lexer": "ipython3",
   "version": "3.10.5"
  }
 },
 "nbformat": 4,
 "nbformat_minor": 5
}
